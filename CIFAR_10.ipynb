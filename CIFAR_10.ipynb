{
 "cells": [
  {
   "cell_type": "markdown",
   "metadata": {},
   "source": [
    "## We are using two CNNs with diff parameters to compare their accuracy on CIFAR10 data."
   ]
  },
  {
   "cell_type": "code",
   "execution_count": 1,
   "metadata": {},
   "outputs": [],
   "source": [
    "import numpy as np\n",
    "from tensorflow.keras.datasets import cifar10\n",
    "from tensorflow.keras.models import Sequential\n",
    "from tensorflow.keras.layers import Dense, Dropout, Conv2D, MaxPool2D, Flatten\n",
    "import tensorflow.keras.utils as np_utils\n",
    "from sklearn.metrics import accuracy_score"
   ]
  },
  {
   "cell_type": "code",
   "execution_count": 3,
   "metadata": {},
   "outputs": [
    {
     "name": "stdout",
     "output_type": "stream",
     "text": [
      "Downloading data from https://www.cs.toronto.edu/~kriz/cifar-10-python.tar.gz\n",
      "170500096/170498071 [==============================] - 89s 1us/step\n"
     ]
    }
   ],
   "source": [
    "(X_train, y_train), (X_test, y_test) = cifar10.load_data()\n",
    "\n",
    "X_train = X_train.reshape(X_train.shape[0], 32, 32, 3)\n",
    "X_test = X_test.reshape(X_test.shape[0], 32, 32, 3)\n",
    "X_train = X_train.astype('float32')\n",
    "X_test = X_test.astype('float32')"
   ]
  },
  {
   "cell_type": "code",
   "execution_count": 4,
   "metadata": {},
   "outputs": [],
   "source": [
    "X_train /= 255\n",
    "X_test /= 255"
   ]
  },
  {
   "cell_type": "code",
   "execution_count": 5,
   "metadata": {},
   "outputs": [
    {
     "name": "stdout",
     "output_type": "stream",
     "text": [
      "Shape before one-hot encoding:  (50000, 1)\n",
      "Shape after one-hot encoding:  (50000, 10)\n"
     ]
    }
   ],
   "source": [
    "n_classes = 10\n",
    "print(\"Shape before one-hot encoding: \", y_train.shape)\n",
    "Y_train = np_utils.to_categorical(y_train, n_classes)\n",
    "Y_test = np_utils.to_categorical(y_test, n_classes)\n",
    "print(\"Shape after one-hot encoding: \", Y_train.shape)"
   ]
  },
  {
   "cell_type": "code",
   "execution_count": 6,
   "metadata": {},
   "outputs": [],
   "source": [
    "model = Sequential()\n",
    "\n",
    "# convolutional layer\n",
    "model.add(Conv2D(25, kernel_size=(3,3), strides=(1,1), padding='valid', activation='relu', input_shape=(32,32,3)))\n",
    "model.add(MaxPool2D(pool_size=(1,1)))\n",
    "\n",
    "# flatten output of conv\n",
    "model.add(Flatten())\n",
    "\n",
    "# hidden layer\n",
    "model.add(Dense(100, activation='relu'))\n",
    "\n",
    "# output layer\n",
    "model.add(Dense(10, activation='softmax'))\n",
    "\n",
    "# compiling the sequential model\n",
    "model.compile(loss='categorical_crossentropy', metrics=['accuracy'], optimizer='adam')\n"
   ]
  },
  {
   "cell_type": "code",
   "execution_count": 7,
   "metadata": {},
   "outputs": [
    {
     "name": "stdout",
     "output_type": "stream",
     "text": [
      "Epoch 1/10\n",
      "391/391 [==============================] - 18s 46ms/step - loss: 2.1346 - accuracy: 0.2663 - val_loss: 1.4624 - val_accuracy: 0.4720\n",
      "Epoch 2/10\n",
      "391/391 [==============================] - 18s 45ms/step - loss: 1.4182 - accuracy: 0.4915 - val_loss: 1.3379 - val_accuracy: 0.5164\n",
      "Epoch 3/10\n",
      "391/391 [==============================] - 18s 47ms/step - loss: 1.2945 - accuracy: 0.5365 - val_loss: 1.2938 - val_accuracy: 0.5374\n",
      "Epoch 4/10\n",
      "391/391 [==============================] - 18s 46ms/step - loss: 1.2105 - accuracy: 0.5726 - val_loss: 1.2724 - val_accuracy: 0.5486\n",
      "Epoch 5/10\n",
      "391/391 [==============================] - 18s 46ms/step - loss: 1.1538 - accuracy: 0.5954 - val_loss: 1.2346 - val_accuracy: 0.5642\n",
      "Epoch 6/10\n",
      "391/391 [==============================] - 18s 46ms/step - loss: 1.1038 - accuracy: 0.6109 - val_loss: 1.2193 - val_accuracy: 0.5698\n",
      "Epoch 7/10\n",
      "391/391 [==============================] - 18s 46ms/step - loss: 1.0584 - accuracy: 0.6292 - val_loss: 1.2341 - val_accuracy: 0.5624\n",
      "Epoch 8/10\n",
      "391/391 [==============================] - 18s 46ms/step - loss: 1.0105 - accuracy: 0.6460 - val_loss: 1.2129 - val_accuracy: 0.5774\n",
      "Epoch 9/10\n",
      "391/391 [==============================] - 18s 46ms/step - loss: 0.9791 - accuracy: 0.6562 - val_loss: 1.2027 - val_accuracy: 0.5809\n",
      "Epoch 10/10\n",
      "391/391 [==============================] - 18s 46ms/step - loss: 0.9365 - accuracy: 0.6713 - val_loss: 1.2158 - val_accuracy: 0.5806\n"
     ]
    },
    {
     "data": {
      "text/plain": [
       "<tensorflow.python.keras.callbacks.History at 0x29dfbe1c520>"
      ]
     },
     "execution_count": 7,
     "metadata": {},
     "output_type": "execute_result"
    }
   ],
   "source": [
    "model.fit(X_train, Y_train, batch_size=128, epochs=10, validation_data=(X_test, Y_test))"
   ]
  },
  {
   "cell_type": "code",
   "execution_count": 20,
   "metadata": {},
   "outputs": [],
   "source": [
    "import matplotlib.pyplot as plt"
   ]
  },
  {
   "cell_type": "code",
   "execution_count": 21,
   "metadata": {},
   "outputs": [
    {
     "data": {
      "image/png": "[encoded data removed]",
      "text/plain": [
       "<Figure size 720x360 with 1 Axes>"
      ]
     },
     "metadata": {
      "needs_background": "light"
     },
     "output_type": "display_data"
    }
   ],
   "source": [
    "plt.figure(figsize=(10,5))\n",
    "plt.plot(model.history.history['accuracy'])\n",
    "plt.plot(model.history.history['val_accuracy'])\n",
    "plt.title('model1 accuracy')\n",
    "plt.ylabel('accuracy')\n",
    "plt.xlabel('epoch')\n",
    "plt.legend(['train', 'test'], loc='lower right')\n",
    "plt.show()"
   ]
  },
  {
   "cell_type": "code",
   "execution_count": 8,
   "metadata": {},
   "outputs": [],
   "source": [
    "model2 = Sequential()\n",
    "\n",
    "# convolutional layer\n",
    "model2.add(Conv2D(50, kernel_size=(3,3), strides=(1,1), padding='same', activation='relu', input_shape=(32, 32, 3)))\n",
    "\n",
    "# convolutional layer\n",
    "model2.add(Conv2D(75, kernel_size=(3,3), strides=(1,1), padding='same', activation='relu'))\n",
    "model2.add(MaxPool2D(pool_size=(2,2)))\n",
    "model2.add(Dropout(0.25))\n",
    "\n",
    "model2.add(Conv2D(125, kernel_size=(3,3), strides=(1,1), padding='same', activation='relu'))\n",
    "model2.add(MaxPool2D(pool_size=(2,2)))\n",
    "model2.add(Dropout(0.25))\n",
    "\n",
    "# flatten output of conv\n",
    "model2.add(Flatten())\n",
    "\n",
    "# hidden layer\n",
    "model2.add(Dense(500, activation='relu'))\n",
    "model2.add(Dropout(0.4))\n",
    "model2.add(Dense(250, activation='relu'))\n",
    "model2.add(Dropout(0.3))\n",
    "\n",
    "# output layer\n",
    "model2.add(Dense(10, activation='softmax'))\n",
    "\n",
    "# compiling the sequential model\n",
    "model2.compile(loss='categorical_crossentropy', metrics=['accuracy'], optimizer='adam')\n"
   ]
  },
  {
   "cell_type": "code",
   "execution_count": 9,
   "metadata": {},
   "outputs": [
    {
     "name": "stdout",
     "output_type": "stream",
     "text": [
      "Epoch 1/10\n",
      "391/391 [==============================] - 141s 359ms/step - loss: 1.8426 - accuracy: 0.3143 - val_loss: 1.1896 - val_accuracy: 0.5845\n",
      "Epoch 2/10\n",
      "391/391 [==============================] - 144s 368ms/step - loss: 1.1652 - accuracy: 0.5859 - val_loss: 0.9223 - val_accuracy: 0.6795\n",
      "Epoch 3/10\n",
      "391/391 [==============================] - 162s 415ms/step - loss: 0.9497 - accuracy: 0.6658 - val_loss: 0.8536 - val_accuracy: 0.7030\n",
      "Epoch 4/10\n",
      "391/391 [==============================] - 168s 429ms/step - loss: 0.8258 - accuracy: 0.7129 - val_loss: 0.7567 - val_accuracy: 0.7410\n",
      "Epoch 5/10\n",
      "391/391 [==============================] - 172s 441ms/step - loss: 0.7314 - accuracy: 0.7453 - val_loss: 0.7005 - val_accuracy: 0.7579\n",
      "Epoch 6/10\n",
      "391/391 [==============================] - 167s 428ms/step - loss: 0.6634 - accuracy: 0.7697 - val_loss: 0.6981 - val_accuracy: 0.7574\n",
      "Epoch 7/10\n",
      "391/391 [==============================] - 165s 422ms/step - loss: 0.6100 - accuracy: 0.7861 - val_loss: 0.6659 - val_accuracy: 0.7692\n",
      "Epoch 8/10\n",
      "391/391 [==============================] - 159s 407ms/step - loss: 0.5615 - accuracy: 0.8025 - val_loss: 0.6581 - val_accuracy: 0.7730\n",
      "Epoch 9/10\n",
      "391/391 [==============================] - 161s 412ms/step - loss: 0.5141 - accuracy: 0.8155 - val_loss: 0.6840 - val_accuracy: 0.7670\n",
      "Epoch 10/10\n",
      "391/391 [==============================] - 164s 421ms/step - loss: 0.4727 - accuracy: 0.8335 - val_loss: 0.6379 - val_accuracy: 0.7814\n"
     ]
    },
    {
     "data": {
      "text/plain": [
       "<tensorflow.python.keras.callbacks.History at 0x29e03203160>"
      ]
     },
     "execution_count": 9,
     "metadata": {},
     "output_type": "execute_result"
    }
   ],
   "source": [
    "model2.fit(X_train, Y_train, batch_size=128, epochs=10, validation_data=(X_test, Y_test))"
   ]
  },
  {
   "cell_type": "code",
   "execution_count": 11,
   "metadata": {},
   "outputs": [
    {
     "name": "stdout",
     "output_type": "stream",
     "text": [
      "dict_keys(['loss', 'accuracy', 'val_loss', 'val_accuracy'])\n"
     ]
    }
   ],
   "source": [
    "print(model2.history.history.keys())"
   ]
  },
  {
   "cell_type": "code",
   "execution_count": 12,
   "metadata": {},
   "outputs": [],
   "source": [
    "import matplotlib.pyplot as plt"
   ]
  },
  {
   "cell_type": "code",
   "execution_count": 22,
   "metadata": {},
   "outputs": [
    {
     "data": {
      "image/png": "[encoded data removed]",
      "text/plain": [
       "<Figure size 720x360 with 1 Axes>"
      ]
     },
     "metadata": {
      "needs_background": "light"
     },
     "output_type": "display_data"
    }
   ],
   "source": [
    "plt.figure(figsize=(10,5))\n",
    "plt.plot(model2.history.history['accuracy'])\n",
    "plt.plot(model2.history.history['val_accuracy'])\n",
    "plt.title('model2 accuracy')\n",
    "plt.ylabel('accuracy')\n",
    "plt.xlabel('epoch')\n",
    "plt.legend(['train', 'test'], loc='lower right')\n",
    "plt.show()"
   ]
  },
  {
   "cell_type": "markdown",
   "metadata": {},
   "source": [
    "## We see that how extra Convolutional layers work better to filter out features and help achieve better accuracy !\n",
    "\n",
    "### A simple ANN with just one ReLU hidden layer and softmax output layer would perform even worse."
   ]
  },
  {
   "cell_type": "code",
   "execution_count": null,
   "metadata": {},
   "outputs": [],
   "source": []
  }
 ],
 "metadata": {
  "kernelspec": {
   "display_name": "Python 3",
   "language": "python",
   "name": "python3"
  },
  "language_info": {
   "codemirror_mode": {
    "name": "ipython",
    "version": 3
   },
   "file_extension": ".py",
   "mimetype": "text/x-python",
   "name": "python",
   "nbconvert_exporter": "python",
   "pygments_lexer": "ipython3",
   "version": "3.8.3"
  }
 },
 "nbformat": 4,
 "nbformat_minor": 4
}
